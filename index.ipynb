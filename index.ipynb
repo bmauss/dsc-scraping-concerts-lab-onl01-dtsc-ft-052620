{
 "cells": [
  {
   "cell_type": "markdown",
   "metadata": {},
   "source": [
    "# Scraping Concerts - Lab\n",
    "\n",
    "## Introduction\n",
    "\n",
    "Now that you've seen how to scrape a simple website, it's time to again practice those skills on a full-fledged site!\n",
    "In this lab, you'll practice your scraping skills on a music website: https://www.residentadvisor.net.\n",
    "## Objectives\n",
    "\n",
    "You will be able to:\n",
    "* Create a full scraping pipeline that involves traversing over many pages of a website, dealing with errors and storing data"
   ]
  },
  {
   "cell_type": "markdown",
   "metadata": {},
   "source": [
    "## View the Website\n",
    "\n",
    "For this lab, you'll be scraping the https://www.residentadvisor.net website. Start by navigating to the events page [here](https://www.residentadvisor.net/events) in your browser.\n",
    "\n",
    "<img src=\"images/ra.png\">"
   ]
  },
  {
   "cell_type": "code",
   "execution_count": 1,
   "metadata": {},
   "outputs": [],
   "source": [
    "# Load the https://www.residentadvisor.net/events page in your browser."
   ]
  },
  {
   "cell_type": "markdown",
   "metadata": {},
   "source": [
    "## Open the Inspect Element Feature\n",
    "\n",
    "Next, open the inspect element feature from your web browser in order to preview the underlying HTML associated with the page."
   ]
  },
  {
   "cell_type": "code",
   "execution_count": 2,
   "metadata": {},
   "outputs": [],
   "source": [
    "# Open the inspect element feature in your browser"
   ]
  },
  {
   "cell_type": "markdown",
   "metadata": {},
   "source": [
    "## Write a Function to Scrape all of the Events on the Given Page Events Page\n",
    "\n",
    "The function should return a Pandas DataFrame with columns for the Event_Name, Venue, Event_Date and Number_of_Attendees."
   ]
  },
  {
   "cell_type": "code",
   "execution_count": 8,
   "metadata": {},
   "outputs": [],
   "source": [
    "import re\n",
    "import numpy as np\n",
    "import pandas as pd\n",
    "import requests\n",
    "from bs4 import BeautifulSoup\n",
    "import time\n",
    "\n",
    "# designing/testing funstion parts\n",
    "response = requests.get('https://www.residentadvisor.net/events')\n",
    "soup = BeautifulSoup(response.content, 'html.parser')\n",
    "\n",
    "event_listings = soup.find('div', id=\"events-listing\")\n"
   ]
  },
  {
   "cell_type": "code",
   "execution_count": 13,
   "metadata": {},
   "outputs": [],
   "source": [
    "def scrape_events(events_page_url):\n",
    "    #Your code here\n",
    "    response = requests.get('https://www.residentadvisor.net/events')\n",
    "    soup = BeautifulSoup(response.content, 'html.parser')\n",
    "    event_listings = soup.find('div', id=\"events-listing\")\n",
    "    rows = []\n",
    "    for entry in entries:\n",
    "        #Is it a date? If so, set current date.\n",
    "        date = entry.find('p', class_=\"eventDate date\")\n",
    "        event = entry.find('h1', class_=\"event-title\")\n",
    "        if event:\n",
    "            details = event.text.split(' at ')\n",
    "            event_name = details[0].strip()\n",
    "            venue = details[1].strip()\n",
    "            try:\n",
    "                n_attendees = int(re.match(\"(\\d*)\", entry.find('p', class_=\"attending\").text)[0])\n",
    "            except:\n",
    "                n_attendees = np.nan\n",
    "            rows.append([event_name, venue, cur_date, n_attendees])\n",
    "        elif date:\n",
    "            cur_date = date.text\n",
    "        else:\n",
    "            continue\n",
    "    df = pd.DataFrame(rows)\n",
    "    df.head()\n",
    "    df.columns = [\"Event_Name\", \"Venue\", \"Event_Date\", \"Number_of_Attendees\"]\n",
    "    return df"
   ]
  },
  {
   "cell_type": "markdown",
   "metadata": {},
   "source": [
    "## Write a Function to Retrieve the URL for the Next Page"
   ]
  },
  {
   "cell_type": "code",
   "execution_count": 10,
   "metadata": {},
   "outputs": [
    {
     "data": {
      "text/plain": [
       "'/events/us/georgia/week/2020-06-19'"
      ]
     },
     "execution_count": 10,
     "metadata": {},
     "output_type": "execute_result"
    }
   ],
   "source": [
    "soup.find('a', attrs={'ga-event-action':\"Next \"}).attrs['href']"
   ]
  },
  {
   "cell_type": "code",
   "execution_count": 11,
   "metadata": {},
   "outputs": [],
   "source": [
    "def next_page(url):\n",
    "    #Your code here\n",
    "    response = requests.get(url)\n",
    "    soup = BeautifulSoup(response.content, 'html.parser')\n",
    "    url_ext = soup.find('a', attrs={'ga-event-action':\"Next \"}).attrs['href']\n",
    "    next_page_url = \"https://www.residentadvisor.net\" + url_ext\n",
    "    return next_page_url"
   ]
  },
  {
   "cell_type": "markdown",
   "metadata": {},
   "source": [
    "## Scrape the Next 1000 Events for Your Area\n",
    "\n",
    "Display the data sorted by the number of attendees. If there is a tie for the number attending, sort by event date."
   ]
  },
  {
   "cell_type": "code",
   "execution_count": 12,
   "metadata": {},
   "outputs": [
    {
     "ename": "NameError",
     "evalue": "name 'entries' is not defined",
     "output_type": "error",
     "traceback": [
      "\u001b[1;31m---------------------------------------------------------------------------\u001b[0m",
      "\u001b[1;31mNameError\u001b[0m                                 Traceback (most recent call last)",
      "\u001b[1;32m<ipython-input-12-0f91a9bf1abb>\u001b[0m in \u001b[0;36m<module>\u001b[1;34m\u001b[0m\n\u001b[0;32m      4\u001b[0m \u001b[0mcur_url\u001b[0m \u001b[1;33m=\u001b[0m \u001b[1;34m\"https://www.residentadvisor.net/events/us/newyork\"\u001b[0m\u001b[1;33m\u001b[0m\u001b[1;33m\u001b[0m\u001b[0m\n\u001b[0;32m      5\u001b[0m \u001b[1;32mwhile\u001b[0m \u001b[0mtotal_rows\u001b[0m \u001b[1;33m<=\u001b[0m \u001b[1;36m1000\u001b[0m\u001b[1;33m:\u001b[0m\u001b[1;33m\u001b[0m\u001b[1;33m\u001b[0m\u001b[0m\n\u001b[1;32m----> 6\u001b[1;33m     \u001b[0mdf\u001b[0m \u001b[1;33m=\u001b[0m \u001b[0mscrape_events\u001b[0m\u001b[1;33m(\u001b[0m\u001b[0mcur_url\u001b[0m\u001b[1;33m)\u001b[0m\u001b[1;33m\u001b[0m\u001b[1;33m\u001b[0m\u001b[0m\n\u001b[0m\u001b[0;32m      7\u001b[0m     \u001b[0mdfs\u001b[0m\u001b[1;33m.\u001b[0m\u001b[0mappend\u001b[0m\u001b[1;33m(\u001b[0m\u001b[0mdf\u001b[0m\u001b[1;33m)\u001b[0m\u001b[1;33m\u001b[0m\u001b[1;33m\u001b[0m\u001b[0m\n\u001b[0;32m      8\u001b[0m     \u001b[0mtotal_rows\u001b[0m \u001b[1;33m+=\u001b[0m \u001b[0mlen\u001b[0m\u001b[1;33m(\u001b[0m\u001b[0mdf\u001b[0m\u001b[1;33m)\u001b[0m\u001b[1;33m\u001b[0m\u001b[1;33m\u001b[0m\u001b[0m\n",
      "\u001b[1;32m<ipython-input-9-135d40a9e064>\u001b[0m in \u001b[0;36mscrape_events\u001b[1;34m(events_page_url)\u001b[0m\n\u001b[0;32m      5\u001b[0m     \u001b[0mevent_listings\u001b[0m \u001b[1;33m=\u001b[0m \u001b[0msoup\u001b[0m\u001b[1;33m.\u001b[0m\u001b[0mfind\u001b[0m\u001b[1;33m(\u001b[0m\u001b[1;34m'div'\u001b[0m\u001b[1;33m,\u001b[0m \u001b[0mid\u001b[0m\u001b[1;33m=\u001b[0m\u001b[1;34m\"events-listing\"\u001b[0m\u001b[1;33m)\u001b[0m\u001b[1;33m\u001b[0m\u001b[1;33m\u001b[0m\u001b[0m\n\u001b[0;32m      6\u001b[0m     \u001b[0mrows\u001b[0m \u001b[1;33m=\u001b[0m \u001b[1;33m[\u001b[0m\u001b[1;33m]\u001b[0m\u001b[1;33m\u001b[0m\u001b[1;33m\u001b[0m\u001b[0m\n\u001b[1;32m----> 7\u001b[1;33m     \u001b[1;32mfor\u001b[0m \u001b[0mentry\u001b[0m \u001b[1;32min\u001b[0m \u001b[0mentries\u001b[0m\u001b[1;33m:\u001b[0m\u001b[1;33m\u001b[0m\u001b[1;33m\u001b[0m\u001b[0m\n\u001b[0m\u001b[0;32m      8\u001b[0m         \u001b[1;31m#Is it a date? If so, set current date.\u001b[0m\u001b[1;33m\u001b[0m\u001b[1;33m\u001b[0m\u001b[1;33m\u001b[0m\u001b[0m\n\u001b[0;32m      9\u001b[0m         \u001b[0mdate\u001b[0m \u001b[1;33m=\u001b[0m \u001b[0mentry\u001b[0m\u001b[1;33m.\u001b[0m\u001b[0mfind\u001b[0m\u001b[1;33m(\u001b[0m\u001b[1;34m'p'\u001b[0m\u001b[1;33m,\u001b[0m \u001b[0mclass_\u001b[0m\u001b[1;33m=\u001b[0m\u001b[1;34m\"eventDate date\"\u001b[0m\u001b[1;33m)\u001b[0m\u001b[1;33m\u001b[0m\u001b[1;33m\u001b[0m\u001b[0m\n",
      "\u001b[1;31mNameError\u001b[0m: name 'entries' is not defined"
     ]
    }
   ],
   "source": [
    "#Your code here\n",
    "dfs = []\n",
    "total_rows = 0\n",
    "cur_url = \"https://www.residentadvisor.net/events/us/newyork\"\n",
    "while total_rows <= 1000:\n",
    "    df = scrape_events(cur_url)\n",
    "    dfs.append(df)\n",
    "    total_rows += len(df)\n",
    "    cur_url = next_page(cur_url)\n",
    "    time.sleep(.2)\n",
    "df = pd.concat(dfs)\n",
    "df = df.iloc[:1000]\n",
    "print(len(df))\n",
    "df.head()"
   ]
  },
  {
   "cell_type": "markdown",
   "metadata": {},
   "source": [
    "## Summary \n",
    "\n",
    "Congratulations! In this lab, you successfully developed a pipeline to scrape a website for concert event information!"
   ]
  }
 ],
 "metadata": {
  "kernelspec": {
   "display_name": "Python 3",
   "language": "python",
   "name": "python3"
  },
  "language_info": {
   "codemirror_mode": {
    "name": "ipython",
    "version": 3
   },
   "file_extension": ".py",
   "mimetype": "text/x-python",
   "name": "python",
   "nbconvert_exporter": "python",
   "pygments_lexer": "ipython3",
   "version": "3.6.9"
  }
 },
 "nbformat": 4,
 "nbformat_minor": 2
}
